{
 "cells": [
  {
   "cell_type": "code",
   "execution_count": null,
   "metadata": {},
   "outputs": [],
   "source": [
    "#comment begin\n",
    "#using keywords to filter covid-19 tweets\n",
    "#using EU_countries list to filter tweets originating from EU countries\n",
    "#using null value of reply id to filter original tweets\n",
    "#Filter original, covid, eu tweets from the dataset\n",
    "#comment end\n",
    "\n",
    "\n",
    "\n",
    "import pandas as pd\n",
    "\n",
    "keywords = ['covid-19', 'covid', 'pandemic', 'epidemic', 'wuhan', 'incidence', 'socialdistancing', 'social distancing',\n",
    "                'incubation', 'isolation', 'mers', 'sars', 'social distance', 'panic', 'panicbuy', 'panic buy', 'panic buying',\n",
    "                'quarantine', 'respirator', 'virus', 'corona', 'coronavirus', 'lockdown', 'quarantined', 'corona crisis', 'stayhome',\n",
    "           'stay home', 'wash your hands', 'washyourhands','staysafe','pandemia','health','stayhealthy','quarantinelife',\n",
    "            'coronamemes']\n",
    "\n",
    "EU_countries = ['Austria','Belgium','Bulgaria','Croatia','Republic of Cyprus','Czech Republic','Denmark','Estonia','Finland',\n",
    "                'France','Germany','Greece','Hungary','Ireland','Italy','Latvia','Lithuania','Luxembourg','Malta','Netherlands',\n",
    "                'Poland','Portugal','Romania','Slovakia','Slovenia','Spain','Sweden']\n",
    "\n",
    "c = 0\n",
    "\n",
    "for df in pd.read_json(\"/data/twitter/ss2020/all/data7.json\",chunksize=100000,lines=True):\n",
    "    inp = pd.DataFrame(df, columns=['created_at','id','in_reply_to_status_id','place','reply_count','text'])\n",
    "    #filter covid19 tweets\n",
    "    pat1 = '|'.join(keywords)\n",
    "    covid_tweet = inp.text.str.contains(pat1,case=False,regex=True)\n",
    "    \n",
    "    #filter tweets from list of EU countries\n",
    "    EU_tweet = inp['place'].str.get('country').isin(EU_countries)\n",
    "    \n",
    "    #filtering with only the main tweets\n",
    "    filterOriginalTweets = pd.isnull(inp['in_reply_to_status_id'])\n",
    "    \n",
    "    #combining the tweets that satisfy all threw conditions\n",
    "    # appending data for each iteration of for loop\n",
    "    if c == 0:\n",
    "        covid_EU_data = inp[covid_tweet & filterOriginalTweets & EU_tweet]\n",
    "        c += 1\n",
    "    else:\n",
    "        covid_EU_data = covid_EU_data.append(inp[covid_tweet & filterOriginalTweets & EU_tweet], ignore_index=True)\n",
    "\n",
    "#write filtered tweets into a separate file        \n",
    "covid_EU_data.to_json(r'/data/kash1240/covid_eu7.json',orient='records',lines=True)   "
   ]
  }
 ],
 "metadata": {
  "kernelspec": {
   "display_name": "Python 3",
   "language": "python",
   "name": "python3"
  },
  "language_info": {
   "codemirror_mode": {
    "name": "ipython",
    "version": 3
   },
   "file_extension": ".py",
   "mimetype": "text/x-python",
   "name": "python",
   "nbconvert_exporter": "python",
   "pygments_lexer": "ipython3",
   "version": "3.6.6"
  }
 },
 "nbformat": 4,
 "nbformat_minor": 2
}
