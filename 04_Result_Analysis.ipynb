{
 "cells": [
  {
   "cell_type": "code",
   "execution_count": 18,
   "metadata": {},
   "outputs": [],
   "source": [
    "df.to_json(r'/data/kash1240/covideu_final.json',orient='records',lines=True)"
   ]
  },
  {
   "cell_type": "code",
   "execution_count": 12,
   "metadata": {},
   "outputs": [],
   "source": [
    "df1 = pd.read_json(\"/data/kash1240/covideu_final.json\",lines=True)"
   ]
  },
  {
   "cell_type": "code",
   "execution_count": 28,
   "metadata": {},
   "outputs": [
    {
     "data": {
      "text/plain": [
       "(126416, 8)"
      ]
     },
     "execution_count": 28,
     "metadata": {},
     "output_type": "execute_result"
    }
   ],
   "source": [
    "#separating positive,negative and neutral tweets\n",
    "column_names=['created_at','id','in_reply_to_status_id','place','polarity','polarity_score','reply_count','text']\n",
    "dfo = pd.DataFrame(columns=column_names)\n",
    "dfp = pd.DataFrame(columns=column_names)\n",
    "dfn = pd.DataFrame(columns=column_names)\n",
    "\n",
    "dfo = df1.loc[df1['polarity'] == 'neutral']\n",
    "dfp = df1.loc[df1['polarity'] == 'positive']\n",
    "dfn = df1.loc[df1['polarity'] == 'negative']\n",
    "\n",
    "df1.shape"
   ]
  },
  {
   "cell_type": "code",
   "execution_count": 29,
   "metadata": {},
   "outputs": [
    {
     "data": {
      "text/plain": [
       "(49795, 8)"
      ]
     },
     "execution_count": 29,
     "metadata": {},
     "output_type": "execute_result"
    }
   ],
   "source": [
    "#number of positive tweets\n",
    "dfp.shape"
   ]
  },
  {
   "cell_type": "code",
   "execution_count": 30,
   "metadata": {},
   "outputs": [
    {
     "data": {
      "text/plain": [
       "(31269, 8)"
      ]
     },
     "execution_count": 30,
     "metadata": {},
     "output_type": "execute_result"
    }
   ],
   "source": [
    "#number of negative tweets\n",
    "dfn.shape"
   ]
  },
  {
   "cell_type": "code",
   "execution_count": 31,
   "metadata": {},
   "outputs": [
    {
     "data": {
      "text/plain": [
       "(45352, 8)"
      ]
     },
     "execution_count": 31,
     "metadata": {},
     "output_type": "execute_result"
    }
   ],
   "source": [
    "#number of neutral tweets\n",
    "dfo.shape"
   ]
  },
  {
   "cell_type": "code",
   "execution_count": 32,
   "metadata": {},
   "outputs": [
    {
     "data": {
      "text/plain": [
       "0.49990095993573663"
      ]
     },
     "execution_count": 32,
     "metadata": {},
     "output_type": "execute_result"
    }
   ],
   "source": [
    "#positive mean value\n",
    "dfp['polarity_score'].mean()"
   ]
  },
  {
   "cell_type": "code",
   "execution_count": 33,
   "metadata": {},
   "outputs": [
    {
     "data": {
      "text/plain": [
       "-0.44352815248329025"
      ]
     },
     "execution_count": 33,
     "metadata": {},
     "output_type": "execute_result"
    }
   ],
   "source": [
    "#negative mean value\n",
    "dfn['polarity_score'].mean()"
   ]
  },
  {
   "cell_type": "code",
   "execution_count": null,
   "metadata": {},
   "outputs": [],
   "source": [
    "import pandas as pd\n",
    "pd.set_option('display.max_colwidth',-1)"
   ]
  },
  {
   "cell_type": "code",
   "execution_count": 20,
   "metadata": {},
   "outputs": [],
   "source": [
    "import pandas as pd\n",
    "df1 = pd.read_json(\"/data/kash1240/covideu_final.json\",lines=True)"
   ]
  },
  {
   "cell_type": "code",
   "execution_count": 24,
   "metadata": {},
   "outputs": [
    {
     "data": {
      "text/html": [
       "<div>\n",
       "<style scoped>\n",
       "    .dataframe tbody tr th:only-of-type {\n",
       "        vertical-align: middle;\n",
       "    }\n",
       "\n",
       "    .dataframe tbody tr th {\n",
       "        vertical-align: top;\n",
       "    }\n",
       "\n",
       "    .dataframe thead th {\n",
       "        text-align: right;\n",
       "    }\n",
       "</style>\n",
       "<table border=\"1\" class=\"dataframe\">\n",
       "  <thead>\n",
       "    <tr style=\"text-align: right;\">\n",
       "      <th></th>\n",
       "      <th>id</th>\n",
       "      <th>text</th>\n",
       "      <th>polarity_score</th>\n",
       "      <th>polarity</th>\n",
       "    </tr>\n",
       "  </thead>\n",
       "  <tbody>\n",
       "    <tr>\n",
       "      <th>0</th>\n",
       "      <td>1245059885793980400</td>\n",
       "      <td>����������� ��������������� ������ ����������� #Quarantine https://t.co/NHLWEbcd7Y</td>\n",
       "      <td>0.0000</td>\n",
       "      <td>neutral</td>\n",
       "    </tr>\n",
       "    <tr>\n",
       "      <th>1</th>\n",
       "      <td>1245089000509051000</td>\n",
       "      <td>Here it is something that will never day and will never will - MUSIC ���������������������������������������� (Not even a virus)\\n\\n #memoriae��� https://t.co/PBdRvysW9U</td>\n",
       "      <td>0.0000</td>\n",
       "      <td>neutral</td>\n",
       "    </tr>\n",
       "    <tr>\n",
       "      <th>2</th>\n",
       "      <td>1245127151889928200</td>\n",
       "      <td>I���ve been non stop baking random shit. I really need to quarantine and chill on my diet</td>\n",
       "      <td>-0.7003</td>\n",
       "      <td>negative</td>\n",
       "    </tr>\n",
       "    <tr>\n",
       "      <th>3</th>\n",
       "      <td>1245383187087396900</td>\n",
       "      <td>Let's see what are the news #stayhome #COVID���19 #azoreanlife @indexhu https://t.co/xrKvxstD80</td>\n",
       "      <td>0.0000</td>\n",
       "      <td>neutral</td>\n",
       "    </tr>\n",
       "    <tr>\n",
       "      <th>4</th>\n",
       "      <td>1245427935944810500</td>\n",
       "      <td>Me: I think I'm ready to date again...\\n\\nThe Universe: Oh yeah?\\n*Releases world wide virus preventing all Human interaction.\\n\\nMe: Well played</td>\n",
       "      <td>0.7964</td>\n",
       "      <td>positive</td>\n",
       "    </tr>\n",
       "    <tr>\n",
       "      <th>5</th>\n",
       "      <td>1212146546923491300</td>\n",
       "      <td>Happy new year guys!!!!  Enjoy this year and all the best for you, your future projects, wishes and mostly, health��� https://t.co/rPvWjsjOCd</td>\n",
       "      <td>0.9309</td>\n",
       "      <td>positive</td>\n",
       "    </tr>\n",
       "    <tr>\n",
       "      <th>6</th>\n",
       "      <td>1212146741409013800</td>\n",
       "      <td>#Repost stregisvenice\\n���  ���  ���  ���  ���\\nAllow your St. Regis Butler to guide you on an immersive shopping session.��� https://t.co/dDrkBHkGuP</td>\n",
       "      <td>0.2263</td>\n",
       "      <td>positive</td>\n",
       "    </tr>\n",
       "    <tr>\n",
       "      <th>7</th>\n",
       "      <td>1212147215747240000</td>\n",
       "      <td>Hippy new one!\\nAll the best in this new one, tons of happiness and health.\\nGrow and expand your mind. Mindset is ev��� https://t.co/uz53BYIxhU</td>\n",
       "      <td>0.8858</td>\n",
       "      <td>positive</td>\n",
       "    </tr>\n",
       "    <tr>\n",
       "      <th>8</th>\n",
       "      <td>1212147357388857300</td>\n",
       "      <td>Happy New Year gamers !! ����\\n\\nP.S : Imagine still being in the past</td>\n",
       "      <td>0.6467</td>\n",
       "      <td>positive</td>\n",
       "    </tr>\n",
       "    <tr>\n",
       "      <th>9</th>\n",
       "      <td>1212147357900583000</td>\n",
       "      <td>Happy new year, good health, may this new year be full of surprises and happiness. https://t.co/tpbogiElR1</td>\n",
       "      <td>0.9022</td>\n",
       "      <td>positive</td>\n",
       "    </tr>\n",
       "  </tbody>\n",
       "</table>\n",
       "</div>"
      ],
      "text/plain": [
       "                    id  \\\n",
       "0  1245059885793980400   \n",
       "1  1245089000509051000   \n",
       "2  1245127151889928200   \n",
       "3  1245383187087396900   \n",
       "4  1245427935944810500   \n",
       "5  1212146546923491300   \n",
       "6  1212146741409013800   \n",
       "7  1212147215747240000   \n",
       "8  1212147357388857300   \n",
       "9  1212147357900583000   \n",
       "\n",
       "                                                                                                                                                                        text  \\\n",
       "0  ����������� ��������������� ������ ����������� #Quarantine https://t.co/NHLWEbcd7Y                                                                                          \n",
       "1  Here it is something that will never day and will never will - MUSIC ���������������������������������������� (Not even a virus)\\n\\n #memoriae��� https://t.co/PBdRvysW9U   \n",
       "2  I���ve been non stop baking random shit. I really need to quarantine and chill on my diet                                                                                   \n",
       "3  Let's see what are the news #stayhome #COVID���19 #azoreanlife @indexhu https://t.co/xrKvxstD80                                                                             \n",
       "4  Me: I think I'm ready to date again...\\n\\nThe Universe: Oh yeah?\\n*Releases world wide virus preventing all Human interaction.\\n\\nMe: Well played                           \n",
       "5  Happy new year guys!!!!  Enjoy this year and all the best for you, your future projects, wishes and mostly, health��� https://t.co/rPvWjsjOCd                               \n",
       "6  #Repost stregisvenice\\n���  ���  ���  ���  ���\\nAllow your St. Regis Butler to guide you on an immersive shopping session.��� https://t.co/dDrkBHkGuP                       \n",
       "7  Hippy new one!\\nAll the best in this new one, tons of happiness and health.\\nGrow and expand your mind. Mindset is ev��� https://t.co/uz53BYIxhU                            \n",
       "8  Happy New Year gamers !! ����\\n\\nP.S : Imagine still being in the past                                                                                                      \n",
       "9  Happy new year, good health, may this new year be full of surprises and happiness. https://t.co/tpbogiElR1                                                                  \n",
       "\n",
       "   polarity_score  polarity  \n",
       "0  0.0000          neutral   \n",
       "1  0.0000          neutral   \n",
       "2 -0.7003          negative  \n",
       "3  0.0000          neutral   \n",
       "4  0.7964          positive  \n",
       "5  0.9309          positive  \n",
       "6  0.2263          positive  \n",
       "7  0.8858          positive  \n",
       "8  0.6467          positive  \n",
       "9  0.9022          positive  "
      ]
     },
     "execution_count": 24,
     "metadata": {},
     "output_type": "execute_result"
    }
   ],
   "source": [
    "df1[['id','text','polarity_score','polarity']].head(10)"
   ]
  }
 ],
 "metadata": {
  "kernelspec": {
   "display_name": "Python 3",
   "language": "python",
   "name": "python3"
  },
  "language_info": {
   "codemirror_mode": {
    "name": "ipython",
    "version": 3
   },
   "file_extension": ".py",
   "mimetype": "text/x-python",
   "name": "python",
   "nbconvert_exporter": "python",
   "pygments_lexer": "ipython3",
   "version": "3.6.6"
  }
 },
 "nbformat": 4,
 "nbformat_minor": 2
}
